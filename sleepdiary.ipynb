{
  "nbformat": 4,
  "nbformat_minor": 0,
  "metadata": {
    "colab": {
      "provenance": [],
      "collapsed_sections": []
    },
    "kernelspec": {
      "name": "python3",
      "display_name": "Python 3"
    },
    "language_info": {
      "name": "python"
    }
  },
  "cells": [
    {
      "cell_type": "code",
      "execution_count": 733,
      "metadata": {
        "id": "C6A4V_WTOZHu"
      },
      "outputs": [],
      "source": [
        "import pandas as pd\n",
        "import re\n",
        "from matplotlib import pyplot as plt\n",
        "from scipy.stats import ttest_ind"
      ]
    },
    {
      "cell_type": "code",
      "source": [
        "all_files = [\"bedTimeHours.csv\", \"dayCaffeine.csv\", \"gender.csv\", \"minsAwake.csv\", \n",
        "\"minutesNap.csv\", \"nightCaffeine.csv\", \"section.csv\", \"SSI.csv\", \n",
        "\"toSleepMinutes.csv\", \"useAlarm.csv\", \"wakeHours.csv\"]\n",
        "section_number = 218"
      ],
      "metadata": {
        "id": "Msp41MNEOf0u"
      },
      "execution_count": 734,
      "outputs": []
    },
    {
      "cell_type": "markdown",
      "source": [
        "Parse the files"
      ],
      "metadata": {
        "id": "qA8Q9N0GOl7F"
      }
    },
    {
      "cell_type": "code",
      "source": [
        "for file_name in all_files:\n",
        "    variable_name = re.search(\"(.+?).csv$\", file_name).group(1)\n",
        "    sample_df = pd\n",
        "    \n",
        "    # create the dataframes\n",
        "    globals()[variable_name] = pd.DataFrame(pd.read_csv(file_name, header=None))\n",
        "\n",
        "    # Overall medians\n",
        "    globals()[f\"{variable_name}_median\"] = globals()[variable_name].median(skipna=True).T\n"
      ],
      "metadata": {
        "id": "Az327Xl8Op84",
        "colab": {
          "base_uri": "https://localhost:8080/"
        },
        "outputId": "bc19bedd-d8fe-4c5e-c6e8-43b50ee5831f"
      },
      "execution_count": 735,
      "outputs": [
        {
          "output_type": "stream",
          "name": "stderr",
          "text": [
            "/usr/local/lib/python3.7/dist-packages/ipykernel_launcher.py:9: FutureWarning: Dropping of nuisance columns in DataFrame reductions (with 'numeric_only=None') is deprecated; in a future version this will raise TypeError.  Select only valid columns before calling the reduction.\n",
            "  if __name__ == '__main__':\n"
          ]
        }
      ]
    },
    {
      "cell_type": "markdown",
      "source": [],
      "metadata": {
        "id": "ylncGFAoOuTo"
      }
    },
    {
      "cell_type": "code",
      "source": [
        "hoursInBed = wakeHours-bedTimeHours\n",
        "hours_napping = minutesNap / 60\n",
        "hours_to_sleep = toSleepMinutes / 60\n",
        "hours_awake = minsAwake / 60\n",
        "total_daily_sleep_median = ((wakeHours-bedTimeHours) + hours_napping - hours_to_sleep - hours_awake).median(skipna=True).T\n"
      ],
      "metadata": {
        "id": "h8BuYE_AOvn5"
      },
      "execution_count": 736,
      "outputs": []
    },
    {
      "cell_type": "markdown",
      "source": [
        "concatenate median table"
      ],
      "metadata": {
        "id": "x4NM7920Oz1X"
      }
    },
    {
      "cell_type": "code",
      "source": [
        "median_table = pd.concat([wakeHours_median, bedTimeHours_median, hoursInBed.median(skipna=True).T, \n",
        "toSleepMinutes_median, minutesNap_median, minsAwake_median, total_daily_sleep_median, SSI_median], axis = 1)\n"
      ],
      "metadata": {
        "id": "IjRt31H5O3jK"
      },
      "execution_count": 737,
      "outputs": []
    },
    {
      "cell_type": "markdown",
      "source": [
        "reset index"
      ],
      "metadata": {
        "id": "EsQtEDk3O6Hb"
      }
    },
    {
      "cell_type": "code",
      "source": [
        "median_table.index = median_table.index + 1"
      ],
      "metadata": {
        "id": "c91jgxXCO7Rt"
      },
      "execution_count": 738,
      "outputs": []
    },
    {
      "cell_type": "markdown",
      "source": [
        "arrange table"
      ],
      "metadata": {
        "id": "I8ig4CwxPBsb"
      }
    },
    {
      "cell_type": "code",
      "source": [
        "median_table = median_table.T\n",
        "my_info = median_table[218]\n",
        "median_table = median_table.drop(columns=[218])\n",
        "median_table.insert(loc=0, column=218, value=my_info)\n",
        "median_table.index = [\"wakeHours\", \"bedTimeHours\", \"hoursInBed\", \n",
        "\"toSleepMinutes\", \"minutesNap\", \"minsAwake\", \"total_daily_sleep\", \"SSI\"]\n",
        "print(median_table)"
      ],
      "metadata": {
        "id": "jMwqgCyqPFGU",
        "colab": {
          "base_uri": "https://localhost:8080/"
        },
        "outputId": "c3e5b756-06f9-453d-d0c2-60ed7acb28cb"
      },
      "execution_count": 739,
      "outputs": [
        {
          "output_type": "stream",
          "name": "stdout",
          "text": [
            "                        218       1          2          3          4    \\\n",
            "wakeHours          7.000000  6.500000   5.683300   6.500000   9.000000   \n",
            "bedTimeHours      -0.116670 -0.500000  -2.616700   0.333330   0.666670   \n",
            "hoursInBed         7.283330  7.166700   7.433300   5.833330   8.000000   \n",
            "toSleepMinutes     5.000000  0.000000  17.000000  30.000000  10.000000   \n",
            "minutesNap         0.000000  0.000000   0.000000   0.000000   0.000000   \n",
            "minsAwake          0.000000  4.000000  10.000000   0.000000  70.000000   \n",
            "total_daily_sleep  7.166667  7.083367   7.049967   5.333333   6.583333   \n",
            "SSI                2.000000  2.000000   2.000000   3.000000   2.000000   \n",
            "\n",
            "                        5          6    7          8        9    ...  \\\n",
            "wakeHours          7.566700   8.433300  7.5   8.500000  5.75000  ...   \n",
            "bedTimeHours      -0.833330   0.083333 -0.5   2.000000 -1.48330  ...   \n",
            "hoursInBed         8.466600   8.599970  8.0   7.500000  7.91670  ...   \n",
            "toSleepMinutes     8.000000   5.000000  0.0  10.000000  5.00000  ...   \n",
            "minutesNap         0.000000   0.000000  0.0   0.000000  0.00000  ...   \n",
            "minsAwake          0.000000  15.000000  0.0   0.000000  0.00000  ...   \n",
            "total_daily_sleep  8.299933   8.199970  8.0   7.333333  7.83333  ...   \n",
            "SSI                2.000000   2.000000  2.0   5.000000  2.00000  ...   \n",
            "\n",
            "                        334  335      336       337        338     339  \\\n",
            "wakeHours          9.833300  9.5  8.25000  6.000000  10.500000  8.1667   \n",
            "bedTimeHours       3.333300  1.0  0.73333 -0.500000   2.000000  1.5833   \n",
            "hoursInBed         6.500000  8.0  7.58330  6.500030   8.500000  6.5000   \n",
            "toSleepMinutes     2.000000  0.0  0.00000  8.000000  25.000000  5.0000   \n",
            "minutesNap         0.000000  0.0  0.00000  0.000000  60.000000  0.0000   \n",
            "minsAwake          0.000000  0.0  0.00000  0.000000   0.000000  1.0000   \n",
            "total_daily_sleep  6.483333  8.5  7.58330  6.416667   8.833333  6.6167   \n",
            "SSI                2.000000  3.0  3.00000  2.000000   3.000000  3.0000   \n",
            "\n",
            "                       340   341       342     343  \n",
            "wakeHours          8.00000  6.00  10.66700  6.2333  \n",
            "bedTimeHours       1.08330 -1.25   0.76667 -1.6000  \n",
            "hoursInBed         7.11667  7.00   9.93370  7.7500  \n",
            "toSleepMinutes     2.00000  3.00  10.00000  0.0000  \n",
            "minutesNap         0.00000  0.00   0.00000  0.0000  \n",
            "minsAwake          0.00000  0.00   5.00000  0.0000  \n",
            "total_daily_sleep  7.11667  6.70   9.58333  7.7500  \n",
            "SSI                3.00000  3.00   2.00000  5.0000  \n",
            "\n",
            "[8 rows x 343 columns]\n"
          ]
        }
      ]
    },
    {
      "cell_type": "markdown",
      "source": [
        "Statistics for individuals (bedTimeHours & hoursInBed)"
      ],
      "metadata": {
        "id": "g-4FdWiNPHxl"
      }
    },
    {
      "cell_type": "code",
      "source": [
        "average_bed_time_hours = bedTimeHours.mean(skipna=True)\n",
        "average_hours_in_bed = hoursInBed.mean(skipna=True)\n",
        "\n",
        "average_pair = pd.concat([average_bed_time_hours, average_hours_in_bed, section], axis=1)\n",
        "average_pair.index += 1\n",
        "average_pair = average_pair.T\n",
        "average_pair.index = [\"average_bed_time_hours\", \"average_hours_in_bed\", \"section\"]\n",
        "average_pair = average_pair.T\n",
        "print(average_pair)"
      ],
      "metadata": {
        "id": "OAoq40iXPJ3q",
        "colab": {
          "base_uri": "https://localhost:8080/"
        },
        "outputId": "30953c1e-060f-4f33-ea7b-e402b750c84d"
      },
      "execution_count": 740,
      "outputs": [
        {
          "output_type": "stream",
          "name": "stdout",
          "text": [
            "     average_bed_time_hours  average_hours_in_bed  section\n",
            "1                 -0.682538              7.158743      0.0\n",
            "2                 -2.034125              7.478563      3.0\n",
            "3                  0.769843              5.607143      3.0\n",
            "4                  0.583334              8.065100      4.0\n",
            "5                 -0.886503              8.461903      7.0\n",
            "..                      ...                   ...      ...\n",
            "339                1.711110              6.312700      6.0\n",
            "340                1.111112              7.280969      5.0\n",
            "341               -0.869048              6.745238      7.0\n",
            "342                0.742858              9.727047      5.0\n",
            "343               -1.380950              7.786498      3.0\n",
            "\n",
            "[343 rows x 3 columns]\n"
          ]
        }
      ]
    },
    {
      "cell_type": "markdown",
      "source": [
        "Scatter plot"
      ],
      "metadata": {
        "id": "_RHo755GPOii"
      }
    },
    {
      "cell_type": "code",
      "source": [
        "# average_pair.plot.scatter(x=\"average_bed_time_hours\", y=\"average_hours_in_bed\")"
      ],
      "metadata": {
        "id": "UT27j97RPPZh"
      },
      "execution_count": 741,
      "outputs": []
    },
    {
      "cell_type": "markdown",
      "source": [
        "Adding multiple data labels"
      ],
      "metadata": {
        "id": "nfz0X31vPUsO"
      }
    },
    {
      "cell_type": "code",
      "source": [
        "instructors = average_pair[average_pair['section'] == 0]\n",
        "section1 = average_pair.query(\"(section > 0) and (section < 6) or (section == 7)\", inplace=False)\n",
        "section2 = average_pair[average_pair['section'] == 6]\n",
        "\n",
        "ax = instructors.plot(x=\"average_bed_time_hours\", y=\"average_hours_in_bed\", kind='scatter', c='r', label='Instructors')\n",
        "section1.plot(x=\"average_bed_time_hours\", y=\"average_hours_in_bed\", kind='scatter', ax=ax, c='g', label='CS1173 students')\n",
        "section2.plot(x=\"average_bed_time_hours\", y=\"average_hours_in_bed\", kind='scatter', ax=ax, c='b', label='DS4003/DS5003')\n",
        "plt.show()"
      ],
      "metadata": {
        "id": "DRe4ZVkSPV7u",
        "colab": {
          "base_uri": "https://localhost:8080/",
          "height": 280
        },
        "outputId": "a33c54c7-808d-4077-e0a4-14f25381b4c3"
      },
      "execution_count": 742,
      "outputs": [
        {
          "output_type": "display_data",
          "data": {
            "text/plain": [
              "<Figure size 432x288 with 1 Axes>"
            ],
            "image/png": "[encoded data removed]"
          },
          "metadata": {
            "needs_background": "light"
          }
        }
      ]
    },
    {
      "cell_type": "markdown",
      "source": [
        "Correlation\n",
        "For each section"
      ],
      "metadata": {
        "id": "05vhzHKLPZ0m"
      }
    },
    {
      "cell_type": "code",
      "source": [
        "instructor_correlation = instructors.iloc[:, :2].corr()\n",
        "CS1173_students_correlation = section1.iloc[:, :2].corr()\n",
        "DS4003_DS5003_students_correlation = section2.iloc[:, :2].corr()"
      ],
      "metadata": {
        "id": "a2zEuKLpPf66"
      },
      "execution_count": 743,
      "outputs": []
    },
    {
      "cell_type": "markdown",
      "source": [
        "For overall"
      ],
      "metadata": {
        "id": "4z93JtjXPimK"
      }
    },
    {
      "cell_type": "code",
      "source": [
        "overall_pair = pd.concat([bedTimeHours.mean(axis=0), hoursInBed.mean(axis=0)], axis=1)\n",
        "overall_pair.index += 1\n",
        "overall_pair = overall_pair.T\n",
        "overall_pair.index += 1\n",
        "overall_pair.index = [\"average_bed_time_hours\", \"average_hours_in_bed\"]\n",
        "\n",
        "overall_correlation = overall_pair.T.corr()\n",
        "print(overall_correlation)"
      ],
      "metadata": {
        "id": "RL4NP4lWPlrK",
        "colab": {
          "base_uri": "https://localhost:8080/"
        },
        "outputId": "a0d91bb9-8c1e-4bd3-af54-d52d745b12b4"
      },
      "execution_count": 744,
      "outputs": [
        {
          "output_type": "stream",
          "name": "stdout",
          "text": [
            "                        average_bed_time_hours  average_hours_in_bed\n",
            "average_bed_time_hours                1.000000             -0.591091\n",
            "average_hours_in_bed                 -0.591091              1.000000\n"
          ]
        }
      ]
    },
    {
      "cell_type": "markdown",
      "source": [
        "Boxplot of average daily sleep by gender"
      ],
      "metadata": {
        "id": "TYJlW4AvPpH6"
      }
    },
    {
      "cell_type": "code",
      "source": [
        "hoursInBed.index += 1\n",
        "hoursInBed = hoursInBed.T\n",
        "hoursInBed.index += 1\n",
        "hoursInBed = hoursInBed.T\n",
        "\n",
        "gender.columns = gender.iloc[0]\n",
        "gender = gender[1:]\n",
        "gender.reset_index(drop=True, inplace=True)\n",
        "\n",
        "gender.index += 1\n",
        "men = hoursInBed[gender.gender[gender.gender == \"male\"].index.tolist()]\n",
        "women = hoursInBed[gender.gender[gender.gender == \"female\"].index.tolist()]\n",
        "\n",
        "men_average = men.mean(axis=1)\n",
        "women_average = women.mean(axis=1)\n",
        "\n",
        "hours_in_bed_average = pd.concat([men_average, women_average], axis=1)\n",
        "hours_in_bed_average.columns = [\"men\", \"women\"]\n",
        "\n",
        "fig, ax = plt.subplots()\n",
        "hours_in_bed_average.plot(ax=ax, kind=\"box\", title=\"Average daily sleep by gender\")\n",
        "\n",
        "plt.show()"
      ],
      "metadata": {
        "id": "NyUudQJVPxmy",
        "colab": {
          "base_uri": "https://localhost:8080/",
          "height": 281
        },
        "outputId": "016b6e85-7f7c-4d26-b292-28eda92903d5"
      },
      "execution_count": 745,
      "outputs": [
        {
          "output_type": "display_data",
          "data": {
            "text/plain": [
              "<Figure size 432x288 with 1 Axes>"
            ],
            "image/png": "[encoded data removed]"
          },
          "metadata": {
            "needs_background": "light"
          }
        }
      ]
    },
    {
      "cell_type": "markdown",
      "source": [
        "Differences in sleep patterns\n",
        "ttest_function"
      ],
      "metadata": {
        "id": "jF0Kq_NXP1Uu"
      }
    },
    {
      "cell_type": "code",
      "source": [
        "def average_ttest(test_data, test_group, groups):\n",
        "    test_data.index += 1\n",
        "    test_data = test_data.T\n",
        "    test_data.index += 1\n",
        "    test_data = test_data.T\n",
        "\n",
        "    test_group.reset_index(drop=True, inplace=True)\n",
        "    test_group.index += 1\n",
        "    \n",
        "    globals()[groups[0]] = test_data[test_group.gender[test_group.gender == groups[0]].index.tolist()]\n",
        "    globals()[groups[1]] = test_data[test_group.gender[test_group.gender == groups[1]].index.tolist()]\n",
        "\n",
        "    globals()[f\"{groups[0]}_mean\"] = globals()[groups[0]].mean(axis=1)\n",
        "    globals()[f\"{groups[1]}_mean\"] = globals()[groups[1]].mean(axis=1)\n",
        "\n",
        "    combined_mean = pd.concat([globals()[f\"{groups[0]}_mean\"], globals()[f\"{groups[1]}_mean\"]], axis=1)\n",
        "    combined_mean.columns = [groups[0], groups[1]]\n",
        "\n",
        "    ttest_result = ttest_ind(combined_mean[groups[0]], combined_mean[groups[1]])[0]\n",
        "\n",
        "    print(ttest_result)\n",
        "\n",
        "print('bed time hours:', end = \" \")\n",
        "average_ttest(bedTimeHours, gender, [\"male\", \"female\"])\n",
        "print(\"use alarm:\", end = \" \")\n",
        "average_ttest(useAlarm, gender, [\"male\", \"female\"])\n",
        "print(\"napping hours:\", end = \" \")\n",
        "print(ttest_ind(hours_napping_average[\"men\"], hours_napping_average[\"women\"])[0])\n"
      ],
      "metadata": {
        "id": "gEDRV8DfP3UK",
        "colab": {
          "base_uri": "https://localhost:8080/"
        },
        "outputId": "b83e576a-675d-4019-dbdc-5ad2ea922867"
      },
      "execution_count": 746,
      "outputs": [
        {
          "output_type": "stream",
          "name": "stdout",
          "text": [
            "bed time hours: 3.0181177619511437\n",
            "use alarm: -0.5454341066799118\n",
            "napping hours: -2.3247088841619568\n"
          ]
        }
      ]
    }
  ]
}